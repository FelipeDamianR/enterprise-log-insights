{
 "cells": [
  {
   "cell_type": "code",
   "execution_count": 1,
   "id": "defe1687",
   "metadata": {},
   "outputs": [],
   "source": [
    "import pandas as pd\n",
    "import numpy as np\n",
    "import matplotlib.pyplot as plt\n",
    "import seaborn as sns"
   ]
  },
  {
   "cell_type": "code",
   "execution_count": 3,
   "id": "e0976fcc",
   "metadata": {},
   "outputs": [],
   "source": [
    "df = pd.read_parquet('bitacora_completa3.parquet')"
   ]
  },
  {
   "cell_type": "code",
   "execution_count": 4,
   "id": "4d88efa0",
   "metadata": {},
   "outputs": [
    {
     "name": "stdout",
     "output_type": "stream",
     "text": [
      "Prop_MethodName\n",
      "CloseBRSession                0\n",
      "Session_End                   0\n",
      "CloseTabForm                  1\n",
      "<RecreateFavorites>b__47_0    1\n",
      "FreeBRLibrary                 1\n",
      "GetKendoGridCatalogs          1\n",
      "GetProductProfilesByDBId      1\n",
      "Environment                   1\n",
      "KendoComboBoxData             1\n",
      "GetProductUsersByDBId         1\n",
      "Name: UserId, dtype: int64\n"
     ]
    }
   ],
   "source": [
    "# Cuántos usuarios diferentes usaron cada método\n",
    "usuarios_por_metodo = df.groupby('Prop_MethodName')['UserId'].nunique()\n",
    "\n",
    "# Ordenar de menos a más\n",
    "metodos_raros = usuarios_por_metodo.sort_values()\n",
    "\n",
    "print(metodos_raros.head(10))  # Métodos usados por muy pocos usuarios\n"
   ]
  },
  {
   "cell_type": "code",
   "execution_count": 5,
   "id": "e554187b",
   "metadata": {},
   "outputs": [
    {
     "name": "stdout",
     "output_type": "stream",
     "text": [
      "                                  Invocaciones  UsuariosUnicos         Ratio\n",
      "Prop_MethodName                                                             \n",
      "Session_End                                 58               0           inf\n",
      "CloseBRSession                              41               0           inf\n",
      "ConfigureControls                       819697              10  8.196970e+04\n",
      "ChangePropierties                       223750               3  7.458333e+04\n",
      "LogTime                                1181845              26  4.545558e+04\n",
      "GetKendoCustomDataSourceInstance        568233              14  4.058807e+04\n",
      "ProcessBRRequest                       1210627              33  3.668567e+04\n",
      "ExecuteClientProtocol                   191291               9  2.125456e+04\n",
      "CheckForReturn                          631494              37  1.706741e+04\n",
      "ToolBarDesigner                          16349               1  1.634900e+04\n"
     ]
    }
   ],
   "source": [
    "invocaciones_totales = df['Prop_MethodName'].value_counts()\n",
    "comparacion = pd.concat([invocaciones_totales, usuarios_por_metodo], axis=1)\n",
    "comparacion.columns = ['Invocaciones', 'UsuariosUnicos']\n",
    "comparacion['Ratio'] = comparacion['Invocaciones'] / comparacion['UsuariosUnicos']\n",
    "print(comparacion.sort_values(by='Ratio', ascending=False).head(10))\n"
   ]
  },
  {
   "cell_type": "code",
   "execution_count": 8,
   "id": "101fc64a",
   "metadata": {},
   "outputs": [
    {
     "name": "stdout",
     "output_type": "stream",
     "text": [
      "Series([], Name: count, dtype: int64)\n",
      "\n",
      "Usuario cmQZCBkGUdnd7P9G5YoH1H usó los métodos raros: []\n",
      "\n",
      "Usuario q3jl0z2ceDGReWSeifyTrj usó los métodos raros: []\n",
      "\n",
      "Usuario i3Mw16UVRcIX8qoU+AU1ax usó los métodos raros: []\n",
      "\n",
      "Usuario 9yfwFZ9eV2XSu68j+x6u4k usó los métodos raros: []\n",
      "\n",
      "Usuario VPsWGOPreqtrgou6ozieGk usó los métodos raros: []\n"
     ]
    }
   ],
   "source": [
    "top_usuarios = df['UserId'].value_counts().head(5).index.tolist()\n",
    "# Filtrar eventos donde se usaron métodos raros\n",
    "df_raros = df[df['Prop_MethodName'].isin(metodos_raros)]\n",
    "\n",
    "# Revisar si alguno de los 5 usuarios aparece en ellos\n",
    "df_raros_top = df_raros[df_raros['UserId'].isin(top_usuarios)]\n",
    "\n",
    "# Mostrar cuántos eventos raros hizo cada uno de esos usuarios\n",
    "conteo_raros_por_usuario = df_raros_top['UserId'].value_counts()\n",
    "print(conteo_raros_por_usuario)\n",
    "\n",
    "# Opcional: ver qué métodos usó cada uno\n",
    "for user in top_usuarios:\n",
    "    metodos_usados = df_raros_top[df_raros_top['UserId'] == user]['Prop_MethodName'].unique()\n",
    "    print(f\"\\nUsuario {user} usó los métodos raros: {metodos_usados}\")\n"
   ]
  }
 ],
 "metadata": {
  "kernelspec": {
   "display_name": ".venv",
   "language": "python",
   "name": "python3"
  },
  "language_info": {
   "codemirror_mode": {
    "name": "ipython",
    "version": 3
   },
   "file_extension": ".py",
   "mimetype": "text/x-python",
   "name": "python",
   "nbconvert_exporter": "python",
   "pygments_lexer": "ipython3",
   "version": "3.11.4"
  }
 },
 "nbformat": 4,
 "nbformat_minor": 5
}
