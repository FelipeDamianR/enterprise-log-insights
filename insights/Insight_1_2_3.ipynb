{
 "cells": [
  {
   "cell_type": "code",
   "execution_count": 2,
   "id": "8b5ae1ef",
   "metadata": {},
   "outputs": [
    {
     "data": {
      "text/html": [
       "<div>\n",
       "<style scoped>\n",
       "    .dataframe tbody tr th:only-of-type {\n",
       "        vertical-align: middle;\n",
       "    }\n",
       "\n",
       "    .dataframe tbody tr th {\n",
       "        vertical-align: top;\n",
       "    }\n",
       "\n",
       "    .dataframe thead th {\n",
       "        text-align: right;\n",
       "    }\n",
       "</style>\n",
       "<table border=\"1\" class=\"dataframe\">\n",
       "  <thead>\n",
       "    <tr style=\"text-align: right;\">\n",
       "      <th></th>\n",
       "      <th>OperationId</th>\n",
       "      <th>Url</th>\n",
       "      <th>TimeGenerated</th>\n",
       "      <th>TenantId</th>\n",
       "      <th>TimeGenerated1</th>\n",
       "      <th>Message</th>\n",
       "      <th>SeverityLevel</th>\n",
       "      <th>Properties</th>\n",
       "      <th>Measurements</th>\n",
       "      <th>OperationName</th>\n",
       "      <th>...</th>\n",
       "      <th>ClientBrowser</th>\n",
       "      <th>ResourceGUID</th>\n",
       "      <th>IKey</th>\n",
       "      <th>SDKVersion</th>\n",
       "      <th>ItemCount</th>\n",
       "      <th>ReferencedItemId</th>\n",
       "      <th>ReferencedType</th>\n",
       "      <th>SourceSystem</th>\n",
       "      <th>Type</th>\n",
       "      <th>_ResourceId</th>\n",
       "    </tr>\n",
       "  </thead>\n",
       "  <tbody>\n",
       "    <tr>\n",
       "      <th>0</th>\n",
       "      <td>7f83d2d233424eacaec9466150f3945e</td>\n",
       "      <td>https://pms3.innsist.tca.com/Services/KendoGri...</td>\n",
       "      <td>2025-05-22T01:07:16.5521405Z</td>\n",
       "      <td>64c42171-d056-4356-9cdd-9f3cee0146e5</td>\n",
       "      <td>2025-05-22T02:25:52.7053317Z</td>\n",
       "      <td>PAGE_Init | ReqId:3604 | Default | __EVENTTARG...</td>\n",
       "      <td>1</td>\n",
       "      <td>{\"LineNumber\":\"0\",\"SessionId\":\"ydmpojn5owczzf4...</td>\n",
       "      <td>NaN</td>\n",
       "      <td>POST /Default</td>\n",
       "      <td>...</td>\n",
       "      <td>NaN</td>\n",
       "      <td>b7093352-752b-4052-ada3-2a30793d7f01</td>\n",
       "      <td>5cdf9557-7f12-4b1d-9614-eff2d7e1fae9</td>\n",
       "      <td>log4net:2.18.0-315</td>\n",
       "      <td>40</td>\n",
       "      <td>NaN</td>\n",
       "      <td>NaN</td>\n",
       "      <td>Azure</td>\n",
       "      <td>AppTraces</td>\n",
       "      <td>/subscriptions/4166267b-742e-48cb-92f0-f42e47f...</td>\n",
       "    </tr>\n",
       "    <tr>\n",
       "      <th>1</th>\n",
       "      <td>7f83d2d233424eacaec9466150f3945e</td>\n",
       "      <td>https://pms3.innsist.tca.com/Default.aspx/GetK...</td>\n",
       "      <td>2025-05-22T01:07:16.3942277Z</td>\n",
       "      <td>64c42171-d056-4356-9cdd-9f3cee0146e5</td>\n",
       "      <td>2025-05-22T02:25:52.7053317Z</td>\n",
       "      <td>PAGE_Init | ReqId:3604 | Default | __EVENTTARG...</td>\n",
       "      <td>1</td>\n",
       "      <td>{\"LineNumber\":\"0\",\"SessionId\":\"ydmpojn5owczzf4...</td>\n",
       "      <td>NaN</td>\n",
       "      <td>POST /Default</td>\n",
       "      <td>...</td>\n",
       "      <td>NaN</td>\n",
       "      <td>b7093352-752b-4052-ada3-2a30793d7f01</td>\n",
       "      <td>5cdf9557-7f12-4b1d-9614-eff2d7e1fae9</td>\n",
       "      <td>log4net:2.18.0-315</td>\n",
       "      <td>40</td>\n",
       "      <td>NaN</td>\n",
       "      <td>NaN</td>\n",
       "      <td>Azure</td>\n",
       "      <td>AppTraces</td>\n",
       "      <td>/subscriptions/4166267b-742e-48cb-92f0-f42e47f...</td>\n",
       "    </tr>\n",
       "    <tr>\n",
       "      <th>2</th>\n",
       "      <td>7f83d2d233424eacaec9466150f3945e</td>\n",
       "      <td>https://pms3.innsist.tca.com/Default.aspx/GetK...</td>\n",
       "      <td>2025-05-22T01:07:16.3910889Z</td>\n",
       "      <td>64c42171-d056-4356-9cdd-9f3cee0146e5</td>\n",
       "      <td>2025-05-22T02:25:52.7053317Z</td>\n",
       "      <td>PAGE_Init | ReqId:3604 | Default | __EVENTTARG...</td>\n",
       "      <td>1</td>\n",
       "      <td>{\"LineNumber\":\"0\",\"SessionId\":\"ydmpojn5owczzf4...</td>\n",
       "      <td>NaN</td>\n",
       "      <td>POST /Default</td>\n",
       "      <td>...</td>\n",
       "      <td>NaN</td>\n",
       "      <td>b7093352-752b-4052-ada3-2a30793d7f01</td>\n",
       "      <td>5cdf9557-7f12-4b1d-9614-eff2d7e1fae9</td>\n",
       "      <td>log4net:2.18.0-315</td>\n",
       "      <td>40</td>\n",
       "      <td>NaN</td>\n",
       "      <td>NaN</td>\n",
       "      <td>Azure</td>\n",
       "      <td>AppTraces</td>\n",
       "      <td>/subscriptions/4166267b-742e-48cb-92f0-f42e47f...</td>\n",
       "    </tr>\n",
       "    <tr>\n",
       "      <th>3</th>\n",
       "      <td>7f83d2d233424eacaec9466150f3945e</td>\n",
       "      <td>https://pms3.innsist.tca.com/Default.aspx/GetK...</td>\n",
       "      <td>2025-05-22T01:07:16.3897123Z</td>\n",
       "      <td>64c42171-d056-4356-9cdd-9f3cee0146e5</td>\n",
       "      <td>2025-05-22T02:25:52.7053317Z</td>\n",
       "      <td>PAGE_Init | ReqId:3604 | Default | __EVENTTARG...</td>\n",
       "      <td>1</td>\n",
       "      <td>{\"LineNumber\":\"0\",\"SessionId\":\"ydmpojn5owczzf4...</td>\n",
       "      <td>NaN</td>\n",
       "      <td>POST /Default</td>\n",
       "      <td>...</td>\n",
       "      <td>NaN</td>\n",
       "      <td>b7093352-752b-4052-ada3-2a30793d7f01</td>\n",
       "      <td>5cdf9557-7f12-4b1d-9614-eff2d7e1fae9</td>\n",
       "      <td>log4net:2.18.0-315</td>\n",
       "      <td>40</td>\n",
       "      <td>NaN</td>\n",
       "      <td>NaN</td>\n",
       "      <td>Azure</td>\n",
       "      <td>AppTraces</td>\n",
       "      <td>/subscriptions/4166267b-742e-48cb-92f0-f42e47f...</td>\n",
       "    </tr>\n",
       "    <tr>\n",
       "      <th>4</th>\n",
       "      <td>7f83d2d233424eacaec9466150f3945e</td>\n",
       "      <td>https://pms3.innsist.tca.com/Default.aspx/GetK...</td>\n",
       "      <td>2025-05-22T01:07:16.387966Z</td>\n",
       "      <td>64c42171-d056-4356-9cdd-9f3cee0146e5</td>\n",
       "      <td>2025-05-22T02:25:52.7053317Z</td>\n",
       "      <td>PAGE_Init | ReqId:3604 | Default | __EVENTTARG...</td>\n",
       "      <td>1</td>\n",
       "      <td>{\"LineNumber\":\"0\",\"SessionId\":\"ydmpojn5owczzf4...</td>\n",
       "      <td>NaN</td>\n",
       "      <td>POST /Default</td>\n",
       "      <td>...</td>\n",
       "      <td>NaN</td>\n",
       "      <td>b7093352-752b-4052-ada3-2a30793d7f01</td>\n",
       "      <td>5cdf9557-7f12-4b1d-9614-eff2d7e1fae9</td>\n",
       "      <td>log4net:2.18.0-315</td>\n",
       "      <td>40</td>\n",
       "      <td>NaN</td>\n",
       "      <td>NaN</td>\n",
       "      <td>Azure</td>\n",
       "      <td>AppTraces</td>\n",
       "      <td>/subscriptions/4166267b-742e-48cb-92f0-f42e47f...</td>\n",
       "    </tr>\n",
       "  </tbody>\n",
       "</table>\n",
       "<p>5 rows × 37 columns</p>\n",
       "</div>"
      ],
      "text/plain": [
       "                        OperationId  \\\n",
       "0  7f83d2d233424eacaec9466150f3945e   \n",
       "1  7f83d2d233424eacaec9466150f3945e   \n",
       "2  7f83d2d233424eacaec9466150f3945e   \n",
       "3  7f83d2d233424eacaec9466150f3945e   \n",
       "4  7f83d2d233424eacaec9466150f3945e   \n",
       "\n",
       "                                                 Url  \\\n",
       "0  https://pms3.innsist.tca.com/Services/KendoGri...   \n",
       "1  https://pms3.innsist.tca.com/Default.aspx/GetK...   \n",
       "2  https://pms3.innsist.tca.com/Default.aspx/GetK...   \n",
       "3  https://pms3.innsist.tca.com/Default.aspx/GetK...   \n",
       "4  https://pms3.innsist.tca.com/Default.aspx/GetK...   \n",
       "\n",
       "                  TimeGenerated                              TenantId  \\\n",
       "0  2025-05-22T01:07:16.5521405Z  64c42171-d056-4356-9cdd-9f3cee0146e5   \n",
       "1  2025-05-22T01:07:16.3942277Z  64c42171-d056-4356-9cdd-9f3cee0146e5   \n",
       "2  2025-05-22T01:07:16.3910889Z  64c42171-d056-4356-9cdd-9f3cee0146e5   \n",
       "3  2025-05-22T01:07:16.3897123Z  64c42171-d056-4356-9cdd-9f3cee0146e5   \n",
       "4   2025-05-22T01:07:16.387966Z  64c42171-d056-4356-9cdd-9f3cee0146e5   \n",
       "\n",
       "                 TimeGenerated1  \\\n",
       "0  2025-05-22T02:25:52.7053317Z   \n",
       "1  2025-05-22T02:25:52.7053317Z   \n",
       "2  2025-05-22T02:25:52.7053317Z   \n",
       "3  2025-05-22T02:25:52.7053317Z   \n",
       "4  2025-05-22T02:25:52.7053317Z   \n",
       "\n",
       "                                             Message  SeverityLevel  \\\n",
       "0  PAGE_Init | ReqId:3604 | Default | __EVENTTARG...              1   \n",
       "1  PAGE_Init | ReqId:3604 | Default | __EVENTTARG...              1   \n",
       "2  PAGE_Init | ReqId:3604 | Default | __EVENTTARG...              1   \n",
       "3  PAGE_Init | ReqId:3604 | Default | __EVENTTARG...              1   \n",
       "4  PAGE_Init | ReqId:3604 | Default | __EVENTTARG...              1   \n",
       "\n",
       "                                          Properties  Measurements  \\\n",
       "0  {\"LineNumber\":\"0\",\"SessionId\":\"ydmpojn5owczzf4...           NaN   \n",
       "1  {\"LineNumber\":\"0\",\"SessionId\":\"ydmpojn5owczzf4...           NaN   \n",
       "2  {\"LineNumber\":\"0\",\"SessionId\":\"ydmpojn5owczzf4...           NaN   \n",
       "3  {\"LineNumber\":\"0\",\"SessionId\":\"ydmpojn5owczzf4...           NaN   \n",
       "4  {\"LineNumber\":\"0\",\"SessionId\":\"ydmpojn5owczzf4...           NaN   \n",
       "\n",
       "   OperationName  ... ClientBrowser                          ResourceGUID  \\\n",
       "0  POST /Default  ...           NaN  b7093352-752b-4052-ada3-2a30793d7f01   \n",
       "1  POST /Default  ...           NaN  b7093352-752b-4052-ada3-2a30793d7f01   \n",
       "2  POST /Default  ...           NaN  b7093352-752b-4052-ada3-2a30793d7f01   \n",
       "3  POST /Default  ...           NaN  b7093352-752b-4052-ada3-2a30793d7f01   \n",
       "4  POST /Default  ...           NaN  b7093352-752b-4052-ada3-2a30793d7f01   \n",
       "\n",
       "                                   IKey          SDKVersion ItemCount  \\\n",
       "0  5cdf9557-7f12-4b1d-9614-eff2d7e1fae9  log4net:2.18.0-315        40   \n",
       "1  5cdf9557-7f12-4b1d-9614-eff2d7e1fae9  log4net:2.18.0-315        40   \n",
       "2  5cdf9557-7f12-4b1d-9614-eff2d7e1fae9  log4net:2.18.0-315        40   \n",
       "3  5cdf9557-7f12-4b1d-9614-eff2d7e1fae9  log4net:2.18.0-315        40   \n",
       "4  5cdf9557-7f12-4b1d-9614-eff2d7e1fae9  log4net:2.18.0-315        40   \n",
       "\n",
       "   ReferencedItemId  ReferencedType  SourceSystem       Type  \\\n",
       "0               NaN             NaN         Azure  AppTraces   \n",
       "1               NaN             NaN         Azure  AppTraces   \n",
       "2               NaN             NaN         Azure  AppTraces   \n",
       "3               NaN             NaN         Azure  AppTraces   \n",
       "4               NaN             NaN         Azure  AppTraces   \n",
       "\n",
       "                                         _ResourceId  \n",
       "0  /subscriptions/4166267b-742e-48cb-92f0-f42e47f...  \n",
       "1  /subscriptions/4166267b-742e-48cb-92f0-f42e47f...  \n",
       "2  /subscriptions/4166267b-742e-48cb-92f0-f42e47f...  \n",
       "3  /subscriptions/4166267b-742e-48cb-92f0-f42e47f...  \n",
       "4  /subscriptions/4166267b-742e-48cb-92f0-f42e47f...  \n",
       "\n",
       "[5 rows x 37 columns]"
      ]
     },
     "execution_count": 2,
     "metadata": {},
     "output_type": "execute_result"
    }
   ],
   "source": [
    "import pandas as pd\n",
    "import glob\n",
    "import matplotlib.pyplot as plt\n",
    "import seaborn as sns\n",
    "\n",
    "files = glob.glob(\"../processed/*.parquet\")\n",
    "\n",
    "df = pd.concat([pd.read_parquet(f) for f in files], ignore_index=True)\n",
    "\n",
    "df.head()"
   ]
  },
  {
   "cell_type": "code",
   "execution_count": 3,
   "id": "ce50d153",
   "metadata": {},
   "outputs": [
    {
     "name": "stdout",
     "output_type": "stream",
     "text": [
      "Shape: (5780399, 37)\n",
      "Columnas:\n",
      "Index(['OperationId', 'Url', 'TimeGenerated', 'TenantId', 'TimeGenerated1',\n",
      "       'Message', 'SeverityLevel', 'Properties', 'Measurements',\n",
      "       'OperationName', 'OperationId1', 'ParentId', 'SyntheticSource',\n",
      "       'SessionId', 'UserId', 'UserAuthenticatedId', 'UserAccountId',\n",
      "       'AppVersion', 'AppRoleName', 'AppRoleInstance', 'ClientType',\n",
      "       'ClientModel', 'ClientOS', 'ClientIP', 'ClientCity',\n",
      "       'ClientStateOrProvince', 'ClientCountryOrRegion', 'ClientBrowser',\n",
      "       'ResourceGUID', 'IKey', 'SDKVersion', 'ItemCount', 'ReferencedItemId',\n",
      "       'ReferencedType', 'SourceSystem', 'Type', '_ResourceId'],\n",
      "      dtype='object')\n"
     ]
    }
   ],
   "source": [
    "print(\"Shape:\", df.shape)\n",
    "print(\"Columnas:\")\n",
    "print(df.columns)\n"
   ]
  },
  {
   "cell_type": "code",
   "execution_count": 4,
   "id": "9a1b1d06",
   "metadata": {},
   "outputs": [
    {
     "name": "stdout",
     "output_type": "stream",
     "text": [
      "Total de errores tipo 3: 22515\n"
     ]
    }
   ],
   "source": [
    "errores_tipo_3 = df[df[\"SeverityLevel\"] == 3].shape[0]\n",
    "\n",
    "print(f\"Total de errores tipo 3: {errores_tipo_3}\")"
   ]
  },
  {
   "cell_type": "code",
   "execution_count": 5,
   "id": "7b422f80",
   "metadata": {},
   "outputs": [
    {
     "data": {
      "text/plain": [
       "SeverityLevel\n",
       "0    2761526\n",
       "1    1686813\n",
       "2    1309545\n",
       "3      22515\n",
       "Name: count, dtype: int64"
      ]
     },
     "execution_count": 5,
     "metadata": {},
     "output_type": "execute_result"
    }
   ],
   "source": [
    "df[\"SeverityLevel\"].value_counts().sort_index()"
   ]
  },
  {
   "cell_type": "code",
   "execution_count": 6,
   "id": "d879d5b3",
   "metadata": {},
   "outputs": [
    {
     "data": {
      "text/plain": [
       "ErrorTipo\n",
       "Control Type Mismatch. Tag 50000 is TKToolBar not a TCAToolBarDesigner    16349\n",
       "Control Not Found!                                                         2755\n",
       "Invalid Tag: 0. Command: DisableFields                                     2187\n",
       "Control Type Mismatch. Tag 1111 is TCAButton not a TKButton                1056\n",
       "GetProductUsersByDBId                                                        84\n",
       "GetProductProfilesByDBId                                                     84\n",
       "Name: count, dtype: int64"
      ]
     },
     "execution_count": 6,
     "metadata": {},
     "output_type": "execute_result"
    }
   ],
   "source": [
    "df[\"ErrorTipo\"] = df[\"Message\"].str.extract(r\"^(.*?)\\|\")\n",
    "df[df[\"SeverityLevel\"] == 3][\"ErrorTipo\"].value_counts().head(10)"
   ]
  },
  {
   "cell_type": "code",
   "execution_count": 7,
   "id": "3c8c39d4",
   "metadata": {},
   "outputs": [
    {
     "data": {
      "text/plain": [
       "UserId\n",
       "q3jl0z2ceDGReWSeifyTrj    16349\n",
       "nm4lPB3QyfwUdNMqpBms22     2755\n",
       "7HudNhG1J8x5OP0Ri4eRwd     2187\n",
       "tnr5w5YKWmBCjUJIXYx1BK     1056\n",
       "jNrNGCGQ8Uj6jkq9wRsCfn      168\n",
       "Name: count, dtype: int64"
      ]
     },
     "execution_count": 7,
     "metadata": {},
     "output_type": "execute_result"
    }
   ],
   "source": [
    "df[df[\"SeverityLevel\"] == 3][\"UserId\"].value_counts().head(10)"
   ]
  },
  {
   "cell_type": "code",
   "execution_count": 8,
   "id": "d2a0ee61",
   "metadata": {},
   "outputs": [
    {
     "data": {
      "text/plain": [
       "UserId                  ErrorTipo                                                             \n",
       "7HudNhG1J8x5OP0Ri4eRwd  Invalid Tag: 0. Command: DisableFields                                     2187\n",
       "jNrNGCGQ8Uj6jkq9wRsCfn  GetProductProfilesByDBId                                                     84\n",
       "                        GetProductUsersByDBId                                                        84\n",
       "nm4lPB3QyfwUdNMqpBms22  Control Not Found!                                                         2755\n",
       "q3jl0z2ceDGReWSeifyTrj  Control Type Mismatch. Tag 50000 is TKToolBar not a TCAToolBarDesigner    16349\n",
       "tnr5w5YKWmBCjUJIXYx1BK  Control Type Mismatch. Tag 1111 is TCAButton not a TKButton                1056\n",
       "Name: count, dtype: int64"
      ]
     },
     "execution_count": 8,
     "metadata": {},
     "output_type": "execute_result"
    }
   ],
   "source": [
    "df[df[\"SeverityLevel\"] == 3].groupby(\"UserId\")[\"ErrorTipo\"].value_counts().groupby(level=0).head(5)"
   ]
  },
  {
   "cell_type": "code",
   "execution_count": 9,
   "id": "1f762fdf",
   "metadata": {},
   "outputs": [
    {
     "data": {
      "text/plain": [
       "0"
      ]
     },
     "execution_count": 9,
     "metadata": {},
     "output_type": "execute_result"
    }
   ],
   "source": [
    "error_masivo = \"Control Type Mismatch. Tag 50000 is TKToolBar not a TCAToolBarDesigner\"\n",
    "\n",
    "conteo_sin_usuario = df[\n",
    "    (df[\"SeverityLevel\"] == 3) &\n",
    "    (df[\"UserId\"] != \"q3jl0z2ceDGReWSeifyTrj\") &\n",
    "    (df[\"Message\"].str.contains(error_masivo, na=False))\n",
    "]\n",
    "\n",
    "conteo_sin_usuario.shape[0]"
   ]
  },
  {
   "cell_type": "code",
   "execution_count": 10,
   "id": "3aefa52c",
   "metadata": {},
   "outputs": [
    {
     "data": {
      "text/plain": [
       "UserId\n",
       "7HudNhG1J8x5OP0Ri4eRwd    2187\n",
       "Name: count, dtype: int64"
      ]
     },
     "execution_count": 10,
     "metadata": {},
     "output_type": "execute_result"
    }
   ],
   "source": [
    "error_df = df[\n",
    "    (df[\"SeverityLevel\"] == 3) &\n",
    "    (df[\"ErrorTipo\"].str.contains(\"Invalid Tag: 0. Command: DisableFields\", na=False))\n",
    "]\n",
    "\n",
    "error_df[\"UserId\"].value_counts()"
   ]
  },
  {
   "cell_type": "code",
   "execution_count": 11,
   "id": "7e3864df",
   "metadata": {},
   "outputs": [
    {
     "data": {
      "text/plain": [
       "UserId\n",
       "jNrNGCGQ8Uj6jkq9wRsCfn    84\n",
       "Name: count, dtype: int64"
      ]
     },
     "execution_count": 11,
     "metadata": {},
     "output_type": "execute_result"
    }
   ],
   "source": [
    "error_df = df[\n",
    "    (df[\"SeverityLevel\"] == 3) &\n",
    "    (df[\"ErrorTipo\"].str.contains(\"GetProductProfilesByDBId\", na=False))\n",
    "]\n",
    "\n",
    "error_df[\"UserId\"].value_counts()"
   ]
  },
  {
   "cell_type": "code",
   "execution_count": 12,
   "id": "90ca2f1c",
   "metadata": {},
   "outputs": [
    {
     "data": {
      "image/png": "[encoded data removed]",
      "text/plain": [
       "<Figure size 800x500 with 1 Axes>"
      ]
     },
     "metadata": {},
     "output_type": "display_data"
    }
   ],
   "source": [
    "import pandas as pd\n",
    "import matplotlib.pyplot as plt\n",
    "\n",
    "df[\"SeverityLevel\"] = pd.to_numeric(df[\"SeverityLevel\"], errors='coerce')\n",
    "\n",
    "total_users = df[\"UserId\"].nunique()\n",
    "\n",
    "proporcion_por_severidad = (\n",
    "    df.groupby(\"SeverityLevel\")[\"UserId\"]\n",
    "    .nunique()\n",
    "    .divide(total_users)\n",
    ")\n",
    "\n",
    "proporcion_por_severidad.sort_index().plot(kind=\"bar\", figsize=(8, 5), color=\"skyblue\")\n",
    "plt.title(\"Proporción de usuarios únicos por tipo de error (SeverityLevel)\")\n",
    "plt.xlabel(\"Nivel de Severidad del Error\")\n",
    "plt.ylabel(\"Proporción de Usuarios Únicos\")\n",
    "plt.ylim(0, 1)\n",
    "plt.grid(axis='y', linestyle='--', alpha=0.7)\n",
    "plt.tight_layout()\n",
    "plt.show()"
   ]
  },
  {
   "cell_type": "code",
   "execution_count": 13,
   "id": "e7000981",
   "metadata": {},
   "outputs": [
    {
     "data": {
      "text/html": [
       "<div>\n",
       "<style scoped>\n",
       "    .dataframe tbody tr th:only-of-type {\n",
       "        vertical-align: middle;\n",
       "    }\n",
       "\n",
       "    .dataframe tbody tr th {\n",
       "        vertical-align: top;\n",
       "    }\n",
       "\n",
       "    .dataframe thead th {\n",
       "        text-align: right;\n",
       "    }\n",
       "</style>\n",
       "<table border=\"1\" class=\"dataframe\">\n",
       "  <thead>\n",
       "    <tr style=\"text-align: right;\">\n",
       "      <th></th>\n",
       "      <th>ErrorTipo</th>\n",
       "      <th>Total ocurrencias</th>\n",
       "      <th>Usuarios únicos</th>\n",
       "    </tr>\n",
       "  </thead>\n",
       "  <tbody>\n",
       "    <tr>\n",
       "      <th>0</th>\n",
       "      <td>Control Type Mismatch. Tag 50000 is TKToolBar ...</td>\n",
       "      <td>16349</td>\n",
       "      <td>1</td>\n",
       "    </tr>\n",
       "    <tr>\n",
       "      <th>1</th>\n",
       "      <td>Control Not Found!</td>\n",
       "      <td>2755</td>\n",
       "      <td>1</td>\n",
       "    </tr>\n",
       "    <tr>\n",
       "      <th>2</th>\n",
       "      <td>Invalid Tag: 0. Command: DisableFields</td>\n",
       "      <td>2187</td>\n",
       "      <td>1</td>\n",
       "    </tr>\n",
       "    <tr>\n",
       "      <th>3</th>\n",
       "      <td>Control Type Mismatch. Tag 1111 is TCAButton n...</td>\n",
       "      <td>1056</td>\n",
       "      <td>1</td>\n",
       "    </tr>\n",
       "    <tr>\n",
       "      <th>4</th>\n",
       "      <td>GetProductUsersByDBId</td>\n",
       "      <td>84</td>\n",
       "      <td>1</td>\n",
       "    </tr>\n",
       "    <tr>\n",
       "      <th>5</th>\n",
       "      <td>GetProductProfilesByDBId</td>\n",
       "      <td>84</td>\n",
       "      <td>1</td>\n",
       "    </tr>\n",
       "  </tbody>\n",
       "</table>\n",
       "</div>"
      ],
      "text/plain": [
       "                                           ErrorTipo  Total ocurrencias  \\\n",
       "0  Control Type Mismatch. Tag 50000 is TKToolBar ...              16349   \n",
       "1                                 Control Not Found!               2755   \n",
       "2            Invalid Tag: 0. Command: DisableFields                2187   \n",
       "3  Control Type Mismatch. Tag 1111 is TCAButton n...               1056   \n",
       "4                             GetProductUsersByDBId                  84   \n",
       "5                          GetProductProfilesByDBId                  84   \n",
       "\n",
       "   Usuarios únicos  \n",
       "0                1  \n",
       "1                1  \n",
       "2                1  \n",
       "3                1  \n",
       "4                1  \n",
       "5                1  "
      ]
     },
     "metadata": {},
     "output_type": "display_data"
    }
   ],
   "source": [
    "df_critico = df[df[\"SeverityLevel\"] == 3]\n",
    "\n",
    "if \"ErrorTipo\" not in df_critico.columns:\n",
    "    df_critico[\"ErrorTipo\"] = df_critico[\"Message\"].str.extract(r\"^(.*?)(?:\\||$)\")\n",
    "\n",
    "tabla_errores = (\n",
    "    df_critico.groupby(\"ErrorTipo\")[\"UserId\"]\n",
    "    .nunique()\n",
    "    .reset_index(name=\"Usuarios únicos\")\n",
    "    .sort_values(by=\"Usuarios únicos\")\n",
    ")\n",
    "\n",
    "tabla_errores_comunes = df_critico[\"ErrorTipo\"].value_counts().head(10).reset_index()\n",
    "tabla_errores_comunes.columns = [\"ErrorTipo\", \"Total ocurrencias\"]\n",
    "\n",
    "resultado = pd.merge(tabla_errores_comunes, tabla_errores, on=\"ErrorTipo\")\n",
    "\n",
    "import pandas as pd\n",
    "from IPython.display import display\n",
    "display(resultado)"
   ]
  },
  {
   "cell_type": "code",
   "execution_count": 14,
   "id": "58b3df7a",
   "metadata": {},
   "outputs": [
    {
     "data": {
      "text/html": [
       "<div>\n",
       "<style scoped>\n",
       "    .dataframe tbody tr th:only-of-type {\n",
       "        vertical-align: middle;\n",
       "    }\n",
       "\n",
       "    .dataframe tbody tr th {\n",
       "        vertical-align: top;\n",
       "    }\n",
       "\n",
       "    .dataframe thead th {\n",
       "        text-align: right;\n",
       "    }\n",
       "</style>\n",
       "<table border=\"1\" class=\"dataframe\">\n",
       "  <thead>\n",
       "    <tr style=\"text-align: right;\">\n",
       "      <th></th>\n",
       "      <th>UserId</th>\n",
       "      <th>ErrorTipo</th>\n",
       "      <th>Ocurrencias</th>\n",
       "    </tr>\n",
       "  </thead>\n",
       "  <tbody>\n",
       "    <tr>\n",
       "      <th>4</th>\n",
       "      <td>q3jl0z2ceDGReWSeifyTrj</td>\n",
       "      <td>Control Type Mismatch. Tag 50000 is TKToolBar ...</td>\n",
       "      <td>16349</td>\n",
       "    </tr>\n",
       "    <tr>\n",
       "      <th>3</th>\n",
       "      <td>nm4lPB3QyfwUdNMqpBms22</td>\n",
       "      <td>Control Not Found!</td>\n",
       "      <td>2755</td>\n",
       "    </tr>\n",
       "    <tr>\n",
       "      <th>0</th>\n",
       "      <td>7HudNhG1J8x5OP0Ri4eRwd</td>\n",
       "      <td>Invalid Tag: 0. Command: DisableFields</td>\n",
       "      <td>2187</td>\n",
       "    </tr>\n",
       "    <tr>\n",
       "      <th>5</th>\n",
       "      <td>tnr5w5YKWmBCjUJIXYx1BK</td>\n",
       "      <td>Control Type Mismatch. Tag 1111 is TCAButton n...</td>\n",
       "      <td>1056</td>\n",
       "    </tr>\n",
       "    <tr>\n",
       "      <th>1</th>\n",
       "      <td>jNrNGCGQ8Uj6jkq9wRsCfn</td>\n",
       "      <td>GetProductProfilesByDBId</td>\n",
       "      <td>84</td>\n",
       "    </tr>\n",
       "    <tr>\n",
       "      <th>2</th>\n",
       "      <td>jNrNGCGQ8Uj6jkq9wRsCfn</td>\n",
       "      <td>GetProductUsersByDBId</td>\n",
       "      <td>84</td>\n",
       "    </tr>\n",
       "  </tbody>\n",
       "</table>\n",
       "</div>"
      ],
      "text/plain": [
       "                   UserId                                          ErrorTipo  \\\n",
       "4  q3jl0z2ceDGReWSeifyTrj  Control Type Mismatch. Tag 50000 is TKToolBar ...   \n",
       "3  nm4lPB3QyfwUdNMqpBms22                                 Control Not Found!   \n",
       "0  7HudNhG1J8x5OP0Ri4eRwd            Invalid Tag: 0. Command: DisableFields    \n",
       "5  tnr5w5YKWmBCjUJIXYx1BK  Control Type Mismatch. Tag 1111 is TCAButton n...   \n",
       "1  jNrNGCGQ8Uj6jkq9wRsCfn                          GetProductProfilesByDBId    \n",
       "2  jNrNGCGQ8Uj6jkq9wRsCfn                             GetProductUsersByDBId    \n",
       "\n",
       "   Ocurrencias  \n",
       "4        16349  \n",
       "3         2755  \n",
       "0         2187  \n",
       "5         1056  \n",
       "1           84  \n",
       "2           84  "
      ]
     },
     "metadata": {},
     "output_type": "display_data"
    }
   ],
   "source": [
    "import pandas as pd\n",
    "\n",
    "if \"ErrorTipo\" not in df.columns:\n",
    "    df[\"ErrorTipo\"] = df[\"Message\"].str.extract(r\"^(.*?)(?:\\||$)\")\n",
    "\n",
    "df_critico = df[df[\"SeverityLevel\"] == 3]\n",
    "\n",
    "errores_comunes = df_critico[\"ErrorTipo\"].value_counts().head(10).index.tolist()\n",
    "\n",
    "top_errores_df = df_critico[df_critico[\"ErrorTipo\"].isin(errores_comunes)]\n",
    "\n",
    "tabla = (\n",
    "    top_errores_df.groupby([\"UserId\", \"ErrorTipo\"])\n",
    "    .size()\n",
    "    .reset_index(name=\"Ocurrencias\")\n",
    "    .sort_values(by=\"Ocurrencias\", ascending=False)\n",
    ")\n",
    "\n",
    "from IPython.display import display\n",
    "display(tabla)"
   ]
  },
  {
   "cell_type": "code",
   "execution_count": 15,
   "id": "9b12b084",
   "metadata": {},
   "outputs": [
    {
     "data": {
      "text/plain": [
       "Series([], Name: count, dtype: int64)"
      ]
     },
     "execution_count": 15,
     "metadata": {},
     "output_type": "execute_result"
    }
   ],
   "source": [
    "df[df[\"SeverityLevel\"] == 3][\"ClientBrowser\"].value_counts().head(10)"
   ]
  },
  {
   "cell_type": "code",
   "execution_count": 16,
   "id": "8f105474",
   "metadata": {},
   "outputs": [
    {
     "name": "stdout",
     "output_type": "stream",
     "text": [
      "Usuarios únicos con errores: 49\n"
     ]
    }
   ],
   "source": [
    "usuarios_unicos = df[\"UserId\"].nunique()\n",
    "print(\"Usuarios únicos con errores:\", usuarios_unicos)"
   ]
  },
  {
   "cell_type": "code",
   "execution_count": 17,
   "id": "a85baafd",
   "metadata": {},
   "outputs": [
    {
     "name": "stdout",
     "output_type": "stream",
     "text": [
      "  AppRoleInstance  Usuarios Únicos\n",
      "0   wn1mdwk00055L                3\n",
      "1   wn1mdwk000630               13\n",
      "2   wn1mdwk0006AR               26\n",
      "3   wn1mdwk0006E1                7\n"
     ]
    }
   ],
   "source": [
    "usuarios_por_instancia = df.groupby(\"AppRoleInstance\")[\"UserId\"].nunique().reset_index()\n",
    "usuarios_por_instancia.columns = [\"AppRoleInstance\", \"Usuarios Únicos\"]\n",
    "print(usuarios_por_instancia)"
   ]
  },
  {
   "cell_type": "code",
   "execution_count": 18,
   "id": "d65172b2",
   "metadata": {},
   "outputs": [
    {
     "name": "stdout",
     "output_type": "stream",
     "text": [
      "  AppRoleInstance  Errores Críticos\n",
      "0   wn1mdwk0006AR             22347\n",
      "1   wn1mdwk00055L               168\n"
     ]
    }
   ],
   "source": [
    "errores_criticos = df[df[\"SeverityLevel\"] == 3]\n",
    "criticos_por_instancia = errores_criticos[\"AppRoleInstance\"].value_counts().reset_index()\n",
    "criticos_por_instancia.columns = [\"AppRoleInstance\", \"Errores Críticos\"]\n",
    "print(criticos_por_instancia)"
   ]
  },
  {
   "cell_type": "code",
   "execution_count": 19,
   "id": "71526a64",
   "metadata": {},
   "outputs": [
    {
     "name": "stdout",
     "output_type": "stream",
     "text": [
      "  AppRoleInstance  Errores Críticos  % del total\n",
      "0   wn1mdwk0006AR             22347    99.253831\n",
      "1   wn1mdwk00055L               168     0.746169\n"
     ]
    }
   ],
   "source": [
    "criticos_por_instancia[\"% del total\"] = (\n",
    "    criticos_por_instancia[\"Errores Críticos\"] / \n",
    "    criticos_por_instancia[\"Errores Críticos\"].sum()\n",
    ") * 100\n",
    "print(criticos_por_instancia)"
   ]
  },
  {
   "cell_type": "code",
   "execution_count": 20,
   "id": "3f45b159",
   "metadata": {},
   "outputs": [
    {
     "name": "stdout",
     "output_type": "stream",
     "text": [
      "Roles únicos: ['innv103-wapp']\n"
     ]
    }
   ],
   "source": [
    "roles_unicos = df[\"AppRoleName\"].unique()\n",
    "print(\"Roles únicos:\", roles_unicos)"
   ]
  },
  {
   "cell_type": "code",
   "execution_count": 21,
   "id": "583eec72",
   "metadata": {},
   "outputs": [
    {
     "name": "stdout",
     "output_type": "stream",
     "text": [
      "                    UserId  TiposDeErrorDistintos\n",
      "29  cmQZCBkGUdnd7P9G5YoH1H                     68\n",
      "47  tnr5w5YKWmBCjUJIXYx1BK                     52\n",
      "43  ol1drtCppvwFy5JZ86fOxu                     49\n",
      "37  i3Mw16UVRcIX8qoU+AU1ax                     47\n",
      "23  QGMfHjSl3LjrOtRhqwFAhA                     44\n",
      "12  7HudNhG1J8x5OP0Ri4eRwd                     42\n",
      "2   +nrFPKH2ux3G0j6RH5YyaP                     34\n",
      "42  nm4lPB3QyfwUdNMqpBms22                     30\n",
      "48  v6f34bjCzzHn+kZf0smNXf                     30\n",
      "32  f3nwAjsN/2rI3xlY0n8rEv                     29\n"
     ]
    }
   ],
   "source": [
    "df[\"ErrorTipo\"] = df[\"Message\"].str.extract(r\"^(.*?)\\|\")\n",
    "\n",
    "errores_por_usuario = df.groupby(\"UserId\")[\"ErrorTipo\"].nunique().reset_index()\n",
    "errores_por_usuario.columns = [\"UserId\", \"TiposDeErrorDistintos\"]\n",
    "errores_por_usuario = errores_por_usuario.sort_values(\"TiposDeErrorDistintos\", ascending=False)\n",
    "\n",
    "print(errores_por_usuario.head(10)) "
   ]
  },
  {
   "cell_type": "code",
   "execution_count": 22,
   "id": "7a4464d9",
   "metadata": {},
   "outputs": [
    {
     "name": "stderr",
     "output_type": "stream",
     "text": [
      "/var/folders/dy/_wvc_4710ybf_gtkq0qb85fw0000gn/T/ipykernel_1032/3508396795.py:5: FutureWarning: \n",
      "\n",
      "Passing `palette` without assigning `hue` is deprecated and will be removed in v0.14.0. Assign the `x` variable to `hue` and set `legend=False` for the same effect.\n",
      "\n",
      "  sns.barplot(data=usuarios_por_instancia, x=\"AppRoleInstance\", y=\"Usuarios Únicos\", palette=\"viridis\")\n"
     ]
    },
    {
     "data": {
      "image/png": "[encoded data removed]",
      "text/plain": [
       "<Figure size 1000x600 with 1 Axes>"
      ]
     },
     "metadata": {},
     "output_type": "display_data"
    }
   ],
   "source": [
    "usuarios_por_instancia = df.groupby(\"AppRoleInstance\")[\"UserId\"].nunique().reset_index()\n",
    "usuarios_por_instancia.columns = [\"AppRoleInstance\", \"Usuarios Únicos\"]\n",
    "\n",
    "plt.figure(figsize=(10, 6))\n",
    "sns.barplot(data=usuarios_por_instancia, x=\"AppRoleInstance\", y=\"Usuarios Únicos\", palette=\"viridis\")\n",
    "plt.title(\"Usuarios únicos por AppRoleInstance\")\n",
    "plt.xlabel(\"Instancia\")\n",
    "plt.ylabel(\"Cantidad de usuarios únicos\")\n",
    "plt.xticks(rotation=45)\n",
    "plt.tight_layout()\n",
    "plt.show()"
   ]
  },
  {
   "cell_type": "code",
   "execution_count": 23,
   "id": "a34ba60f",
   "metadata": {},
   "outputs": [
    {
     "name": "stderr",
     "output_type": "stream",
     "text": [
      "/var/folders/dy/_wvc_4710ybf_gtkq0qb85fw0000gn/T/ipykernel_1032/1293878937.py:6: FutureWarning: \n",
      "\n",
      "Passing `palette` without assigning `hue` is deprecated and will be removed in v0.14.0. Assign the `x` variable to `hue` and set `legend=False` for the same effect.\n",
      "\n",
      "  sns.barplot(data=criticos_por_instancia, x=\"AppRoleInstance\", y=\"Errores Críticos\", palette=\"rocket\")\n"
     ]
    },
    {
     "data": {
      "image/png": "[encoded data removed]",
      "text/plain": [
       "<Figure size 1000x600 with 1 Axes>"
      ]
     },
     "metadata": {},
     "output_type": "display_data"
    }
   ],
   "source": [
    "errores_criticos = df[df[\"SeverityLevel\"] == 3]\n",
    "criticos_por_instancia = errores_criticos[\"AppRoleInstance\"].value_counts().reset_index()\n",
    "criticos_por_instancia.columns = [\"AppRoleInstance\", \"Errores Críticos\"]\n",
    "\n",
    "plt.figure(figsize=(10, 6))\n",
    "sns.barplot(data=criticos_por_instancia, x=\"AppRoleInstance\", y=\"Errores Críticos\", palette=\"rocket\")\n",
    "plt.title(\"Errores críticos (SeverityLevel = 3) por AppRoleInstance\")\n",
    "plt.xlabel(\"Instancia\")\n",
    "plt.ylabel(\"Cantidad de errores críticos\")\n",
    "plt.xticks(rotation=45)\n",
    "plt.tight_layout()\n",
    "plt.show()"
   ]
  },
  {
   "cell_type": "code",
   "execution_count": 24,
   "id": "a8c4c81a",
   "metadata": {},
   "outputs": [
    {
     "name": "stderr",
     "output_type": "stream",
     "text": [
      "/var/folders/dy/_wvc_4710ybf_gtkq0qb85fw0000gn/T/ipykernel_1032/1843160456.py:6: FutureWarning: \n",
      "\n",
      "Passing `palette` without assigning `hue` is deprecated and will be removed in v0.14.0. Assign the `x` variable to `hue` and set `legend=False` for the same effect.\n",
      "\n",
      "  sns.barplot(data=criticos_por_instancia, x=\"AppRoleInstance\", y=\"% del total\", palette=\"magma\")\n"
     ]
    },
    {
     "data": {
      "image/png": "[encoded data removed]",
      "text/plain": [
       "<Figure size 1000x600 with 1 Axes>"
      ]
     },
     "metadata": {},
     "output_type": "display_data"
    }
   ],
   "source": [
    "criticos_por_instancia[\"% del total\"] = (\n",
    "    criticos_por_instancia[\"Errores Críticos\"] / criticos_por_instancia[\"Errores Críticos\"].sum()\n",
    ") * 100\n",
    "\n",
    "plt.figure(figsize=(10, 6))\n",
    "sns.barplot(data=criticos_por_instancia, x=\"AppRoleInstance\", y=\"% del total\", palette=\"magma\")\n",
    "plt.title(\"Porcentaje de errores críticos por AppRoleInstance\")\n",
    "plt.xlabel(\"Instancia\")\n",
    "plt.ylabel(\"Porcentaje del total\")\n",
    "plt.xticks(rotation=45)\n",
    "plt.tight_layout()\n",
    "plt.show()"
   ]
  },
  {
   "cell_type": "code",
   "execution_count": 25,
   "id": "9fb8edc7",
   "metadata": {},
   "outputs": [
    {
     "name": "stderr",
     "output_type": "stream",
     "text": [
      "/var/folders/dy/_wvc_4710ybf_gtkq0qb85fw0000gn/T/ipykernel_1032/744979201.py:8: FutureWarning: \n",
      "\n",
      "Passing `palette` without assigning `hue` is deprecated and will be removed in v0.14.0. Assign the `x` variable to `hue` and set `legend=False` for the same effect.\n",
      "\n",
      "  sns.barplot(data=errores_por_usuario, x=\"UserId\", y=\"TiposDeErrorDistintos\", palette=\"coolwarm\")\n"
     ]
    },
    {
     "data": {
      "image/png": "[encoded data removed]",
      "text/plain": [
       "<Figure size 1000x600 with 1 Axes>"
      ]
     },
     "metadata": {},
     "output_type": "display_data"
    }
   ],
   "source": [
    "df[\"ErrorTipo\"] = df[\"Message\"].str.extract(r\"^(.*?)\\|\")\n",
    "\n",
    "errores_por_usuario = df.groupby(\"UserId\")[\"ErrorTipo\"].nunique().reset_index()\n",
    "errores_por_usuario.columns = [\"UserId\", \"TiposDeErrorDistintos\"]\n",
    "errores_por_usuario = errores_por_usuario.sort_values(\"TiposDeErrorDistintos\", ascending=False).head(10)\n",
    "\n",
    "plt.figure(figsize=(10, 6))\n",
    "sns.barplot(data=errores_por_usuario, x=\"UserId\", y=\"TiposDeErrorDistintos\", palette=\"coolwarm\")\n",
    "plt.title(\"Top 10 usuarios con mayor diversidad de tipos de error\")\n",
    "plt.xlabel(\"Usuario\")\n",
    "plt.ylabel(\"Tipos distintos de error\")\n",
    "plt.xticks(rotation=45)\n",
    "plt.tight_layout()\n",
    "plt.show()"
   ]
  },
  {
   "cell_type": "code",
   "execution_count": 26,
   "id": "0681ec53",
   "metadata": {},
   "outputs": [
    {
     "name": "stdout",
     "output_type": "stream",
     "text": [
      "              count           mean      max            std\n",
      "AppRoleName                                               \n",
      "innv103-wapp     49  117578.857143  1062885  195072.761053\n"
     ]
    }
   ],
   "source": [
    "errores_por_usuario = df.groupby([\"AppRoleName\", \"UserId\"]).size().reset_index(name=\"Errores\")\n",
    "\n",
    "stats_rol = errores_por_usuario.groupby(\"AppRoleName\")[\"Errores\"].agg([\"count\", \"mean\", \"max\", \"std\"])\n",
    "\n",
    "print(stats_rol)"
   ]
  },
  {
   "cell_type": "code",
   "execution_count": 28,
   "id": "91fe0028",
   "metadata": {},
   "outputs": [
    {
     "name": "stdout",
     "output_type": "stream",
     "text": [
      "    ClientCountryOrRegion                                    ErrorTipo  \\\n",
      "309                Mexico                  WebMethod=ProcessBRRequest    \n",
      "304                Mexico  WebMethod=GetKendoCustomDataSourceInstance    \n",
      "223                Mexico             ProcessBRRequest.CheckForReturn    \n",
      "132                Mexico                  FastRequest.CheckForReturn    \n",
      "174                Mexico                       Params ? Id: ? Values:   \n",
      "320        United Kingdom                  WebMethod=ProcessBRRequest    \n",
      "316        United Kingdom    ParseTagValuePairToClientTransferPackage    \n",
      "317        United Kingdom             ProcessBRRequest.CheckForReturn    \n",
      "318        United Kingdom                                  Requesting    \n",
      "319        United Kingdom                                      Unpack    \n",
      "338         United States                  FastRequest.CheckForReturn    \n",
      "322         United States                          Control Not Found!    \n",
      "321         United States                             - UpdateSession    \n",
      "352         United States                               UpdateSession    \n",
      "353         United States              WebMethod=GetKendoGridInstance    \n",
      "\n",
      "     Ocurrencias  \n",
      "309       671811  \n",
      "304       568233  \n",
      "223       329637  \n",
      "132       263716  \n",
      "174       235631  \n",
      "320          288  \n",
      "316          144  \n",
      "317          144  \n",
      "318          144  \n",
      "319          144  \n",
      "338        18633  \n",
      "322        16452  \n",
      "321         9468  \n",
      "352         9439  \n",
      "353         8535  \n"
     ]
    }
   ],
   "source": [
    "df[\"ErrorTipo\"] = df[\"Message\"].str.extract(r\"^(.*?)\\|\")\n",
    "\n",
    "errores_por_pais = (\n",
    "    df.groupby([\"ClientCountryOrRegion\", \"ErrorTipo\"])\n",
    "    .size()\n",
    "    .reset_index(name=\"Ocurrencias\")\n",
    "    .sort_values(by=[\"ClientCountryOrRegion\", \"Ocurrencias\"], ascending=[True, False])\n",
    ")\n",
    "\n",
    "top5_errores_por_pais = errores_por_pais.groupby(\"ClientCountryOrRegion\").head(5)\n",
    "\n",
    "print(top5_errores_por_pais)"
   ]
  },
  {
   "cell_type": "code",
   "execution_count": 30,
   "id": "fa504d96",
   "metadata": {},
   "outputs": [
    {
     "name": "stdout",
     "output_type": "stream",
     "text": [
      "Total de bitácoras: 5780399\n"
     ]
    }
   ],
   "source": [
    "total_bitacoras = len(df)\n",
    "print(\"Total de bitácoras:\", total_bitacoras)\n"
   ]
  },
  {
   "cell_type": "code",
   "execution_count": 31,
   "id": "891d475e",
   "metadata": {},
   "outputs": [
    {
     "name": "stdout",
     "output_type": "stream",
     "text": [
      "             País  Total de Bitácoras\n",
      "0          Mexico             5642489\n",
      "1   United States              136408\n",
      "2  United Kingdom                1502\n"
     ]
    }
   ],
   "source": [
    "bitacoras_por_pais = df[\"ClientCountryOrRegion\"].value_counts().reset_index()\n",
    "bitacoras_por_pais.columns = [\"País\", \"Total de Bitácoras\"]\n",
    "\n",
    "print(bitacoras_por_pais)"
   ]
  },
  {
   "cell_type": "code",
   "execution_count": 32,
   "id": "963bea31",
   "metadata": {},
   "outputs": [
    {
     "name": "stdout",
     "output_type": "stream",
     "text": [
      "             País  Total de Bitácoras  % del total\n",
      "0          Mexico             5642489    97.614179\n",
      "1   United States              136408     2.359837\n",
      "2  United Kingdom                1502     0.025984\n"
     ]
    }
   ],
   "source": [
    "bitacoras_por_pais[\"% del total\"] = (\n",
    "    bitacoras_por_pais[\"Total de Bitácoras\"] / bitacoras_por_pais[\"Total de Bitácoras\"].sum()\n",
    ") * 100\n",
    "\n",
    "print(bitacoras_por_pais)"
   ]
  },
  {
   "cell_type": "code",
   "execution_count": null,
   "id": "9f745340",
   "metadata": {},
   "outputs": [
    {
     "name": "stdout",
     "output_type": "stream",
     "text": [
      "             País  Errores Severidad >= 2  Total de Errores  \\\n",
      "1   United States                   52424            136408   \n",
      "0          Mexico                 1279574           5642489   \n",
      "2  United Kingdom                      62              1502   \n",
      "\n",
      "   Proporción >=2 (%)  \n",
      "1               38.43  \n",
      "0               22.68  \n",
      "2                4.13  \n"
     ]
    }
   ],
   "source": [
    "errores_severidad_2_o_mas = df[df[\"SeverityLevel\"] >= 2]\n",
    "\n",
    "errores_2_por_pais = errores_severidad_2_o_mas[\"ClientCountryOrRegion\"].value_counts().reset_index()\n",
    "errores_2_por_pais.columns = [\"País\", \"Errores Severidad >= 2\"]\n",
    "\n",
    "total_errores_por_pais = df[\"ClientCountryOrRegion\"].value_counts().reset_index()\n",
    "total_errores_por_pais.columns = [\"País\", \"Total de Errores\"]\n",
    "\n",
    "proporcion = pd.merge(errores_2_por_pais, total_errores_por_pais, on=\"País\")\n",
    "\n",
    "proporcion[\"Proporción >=2 (%)\"] = (\n",
    "    proporcion[\"Errores Severidad >= 2\"] / proporcion[\"Total de Errores\"] * 100\n",
    ").round(2)\n",
    "\n",
    "print(proporcion.sort_values(\"Proporción >=2 (%)\", ascending=False))\n"
   ]
  },
  {
   "cell_type": "markdown",
   "id": "d9f46ead",
   "metadata": {},
   "source": []
  }
 ],
 "metadata": {
  "kernelspec": {
   "display_name": ".venv",
   "language": "python",
   "name": "python3"
  },
  "language_info": {
   "codemirror_mode": {
    "name": "ipython",
    "version": 3
   },
   "file_extension": ".py",
   "mimetype": "text/x-python",
   "name": "python",
   "nbconvert_exporter": "python",
   "pygments_lexer": "ipython3",
   "version": "3.13.3"
  }
 },
 "nbformat": 4,
 "nbformat_minor": 5
}
